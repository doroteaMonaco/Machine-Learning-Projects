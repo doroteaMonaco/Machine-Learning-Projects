{
 "cells": [
  {
   "cell_type": "markdown",
   "id": "8886fc60",
   "metadata": {},
   "source": [
    "Training an image classifier\n",
    "We will do the following steps in order:\n",
    "\n",
    "- Load and normalize the CIFAR10 training and test datasets using torchvision\n",
    "- Define a Convolutional Neural Network\n",
    "- Define a loss function\n",
    "- Train the network on the training data\n",
    "- Test the network on the test data"
   ]
  },
  {
   "cell_type": "markdown",
   "id": "721f1fe1",
   "metadata": {},
   "source": [
    "1) Load the dataset CIFAR10"
   ]
  },
  {
   "cell_type": "code",
   "execution_count": 12,
   "id": "36236b02",
   "metadata": {},
   "outputs": [],
   "source": [
    "import torch \n",
    "import torchvision\n",
    "import torchvision.transforms as transforms\n",
    "import matplotlib.pyplot as plt\n",
    "import numpy as np"
   ]
  },
  {
   "cell_type": "code",
   "execution_count": 13,
   "id": "0d31d620",
   "metadata": {},
   "outputs": [],
   "source": [
    "transform = transforms.Compose(\n",
    "    [transforms.ToTensor(),\n",
    "     transforms.Normalize((0.5, 0.5, 0.5), (0.5, 0.5, 0.5))]\n",
    ")\n",
    "\n",
    "batch_size = 4\n",
    "# Load the train and test datasets\n",
    "trainset = torchvision.datasets.CIFAR10(root='./data', train=True, download=True, transform=transform)\n",
    "trainloader = torch.utils.data.DataLoader(trainset, batch_size=batch_size, shuffle=True, num_workers=2)\n",
    "testset = torchvision.datasets.CIFAR10(root='./data', train=False, download=True, transform=transform)\n",
    "testloader = torch.utils.data.DataLoader(testset, batch_size=batch_size, shuffle=False, num_workers=2)\n",
    "\n",
    "classes=('plane', 'car', 'bird', 'cat',\n",
    "         'deer', 'dog', 'frog', 'horse', 'ship', 'truck')"
   ]
  },
  {
   "cell_type": "markdown",
   "id": "ca443c76",
   "metadata": {},
   "source": [
    "Let's show some images"
   ]
  },
  {
   "cell_type": "code",
   "execution_count": 14,
   "id": "97be1dd0",
   "metadata": {},
   "outputs": [
    {
     "data": {
      "image/png": "[encoded data removed]",
      "text/plain": [
       "<Figure size 640x480 with 1 Axes>"
      ]
     },
     "metadata": {},
     "output_type": "display_data"
    },
    {
     "name": "stdout",
     "output_type": "stream",
     "text": [
      "plane deer  deer  cat  \n"
     ]
    }
   ],
   "source": [
    "# functions to show an image\n",
    "def imshow(img):\n",
    "    img = img / 2 + 0.5     # unnormalize\n",
    "    npimg = img.numpy()\n",
    "    plt.imshow(np.transpose(npimg, (1, 2, 0)))\n",
    "    plt.show()\n",
    "\n",
    "dataiter = iter(trainloader)\n",
    "images, labels = next(dataiter)\n",
    "\n",
    "imshow(torchvision.utils.make_grid(images))\n",
    "# print labels\n",
    "print(' '.join(f'{classes[labels[j]]:5s}' for j in range(batch_size)))"
   ]
  },
  {
   "cell_type": "markdown",
   "id": "cfee3be5",
   "metadata": {},
   "source": [
    "2) Define a CNN"
   ]
  },
  {
   "cell_type": "code",
   "execution_count": 15,
   "id": "16a810de",
   "metadata": {},
   "outputs": [],
   "source": [
    "import torch.nn as nn\n",
    "import torch.nn.functional as F\n",
    "\n",
    "class Net(nn.Module):\n",
    "    def __init__(self):\n",
    "        super().__init__()\n",
    "        self.conv1 = nn.Conv2d(3, 6, 5)\n",
    "        self.pool = nn.MaxPool2d(2, 2)\n",
    "        self.conv2 = nn.Conv2d(6, 16, 5)\n",
    "        self.fc1 = nn.Linear(16 * 5 * 5, 120)\n",
    "        self.fc2 = nn.Linear(120, 84)\n",
    "        self.fc3 = nn.Linear(84, 10)\n",
    "\n",
    "    def forward(self, x):\n",
    "        x = self.pool(F.relu(self.conv1(x)))\n",
    "        x = self.pool(F.relu(self.conv2(x)))\n",
    "        x = torch.flatten(x, 1)\n",
    "        x = F.relu(self.fc1(x))\n",
    "        x = F.relu(self.fc2(x))\n",
    "        x = self.fc3(x)\n",
    "        return x\n",
    "    \n",
    "net = Net()"
   ]
  },
  {
   "cell_type": "markdown",
   "id": "d7c8e8ef",
   "metadata": {},
   "source": [
    "3) Define a Loss Function and Optimizer"
   ]
  },
  {
   "cell_type": "code",
   "execution_count": 16,
   "id": "750ed001",
   "metadata": {},
   "outputs": [],
   "source": [
    "import torch.optim as optim\n",
    "\n",
    "criterion = nn.CrossEntropyLoss()\n",
    "optimizer = optim.SGD(net.parameters(), lr=0.001, momentum=0.9)"
   ]
  },
  {
   "cell_type": "markdown",
   "id": "a53527b5",
   "metadata": {},
   "source": [
    "4) Train the network: train our data with loop (epochs)"
   ]
  },
  {
   "cell_type": "code",
   "execution_count": 17,
   "id": "31e5f5fe",
   "metadata": {},
   "outputs": [
    {
     "name": "stdout",
     "output_type": "stream",
     "text": [
      "[1,  2000] loss: 2.179\n",
      "[1,  4000] loss: 1.852\n",
      "[1,  6000] loss: 1.676\n",
      "[1,  8000] loss: 1.578\n",
      "[1, 10000] loss: 1.526\n",
      "[1, 12000] loss: 1.479\n",
      "[2,  2000] loss: 1.403\n",
      "[2,  4000] loss: 1.381\n",
      "[2,  6000] loss: 1.329\n",
      "[2,  8000] loss: 1.325\n",
      "[2, 10000] loss: 1.305\n",
      "[2, 12000] loss: 1.286\n"
     ]
    }
   ],
   "source": [
    "for epoch in range(2):\n",
    "    running_loss = 0.0\n",
    "    for i, data in enumerate(trainloader, 0):\n",
    "        #get the inputs\n",
    "        inputs, labels = data\n",
    "\n",
    "        #zero the parameter gradients\n",
    "        optimizer.zero_grad()\n",
    "\n",
    "        #forward + backward\n",
    "        outputs = net(inputs)\n",
    "        loss = criterion(outputs, labels)\n",
    "        loss.backward()\n",
    "        #update of parameters\n",
    "        optimizer.step()\n",
    "\n",
    "        running_loss += loss.item() #print every 2000 batches\n",
    "        if i % 2000 == 1999:\n",
    "            print(f'[{epoch + 1}, {i + 1:5d}] loss: {running_loss / 2000:.3f}')\n",
    "            running_loss = 0.0"
   ]
  },
  {
   "cell_type": "markdown",
   "id": "59b808ba",
   "metadata": {},
   "source": [
    "Let's save our trained model"
   ]
  },
  {
   "cell_type": "code",
   "execution_count": 18,
   "id": "4dc29791",
   "metadata": {},
   "outputs": [],
   "source": [
    "PATH = './cifar_net.pth'\n",
    "torch.save(net.state_dict(), PATH)"
   ]
  },
  {
   "cell_type": "markdown",
   "id": "e2eaa2fd",
   "metadata": {},
   "source": [
    "5) Test the network on the test data\n",
    "We will check by predicting the class label that the NN outputs, and checking it against the ground-truth. I fthe prediction is correct , we add the sample to teh list of correct predictions.\n",
    "\n",
    "First step, let's display an image from the test set."
   ]
  },
  {
   "cell_type": "code",
   "execution_count": 19,
   "id": "656426ec",
   "metadata": {},
   "outputs": [
    {
     "data": {
      "image/png": "[encoded data removed]",
      "text/plain": [
       "<Figure size 640x480 with 1 Axes>"
      ]
     },
     "metadata": {},
     "output_type": "display_data"
    },
    {
     "name": "stdout",
     "output_type": "stream",
     "text": [
      "GroundTruth:  cat   ship  ship  plane\n"
     ]
    }
   ],
   "source": [
    "dataiter = iter(testloader)\n",
    "images, labels = next(dataiter)\n",
    "\n",
    "imshow(torchvision.utils.make_grid(images))\n",
    "print('GroundTruth: ', ' '.join(f'{classes[labels[j]]:5s}' for j in range(4)))"
   ]
  },
  {
   "cell_type": "markdown",
   "id": "de3d07dc",
   "metadata": {},
   "source": [
    "Now we should re-load the trained model from the PATH where we saved it"
   ]
  },
  {
   "cell_type": "code",
   "execution_count": 21,
   "id": "3bb541cf",
   "metadata": {},
   "outputs": [],
   "source": [
    "net = Net()\n",
    "net.load_state_dict(torch.load(PATH, weights_only=True))\n",
    "\n",
    "#outputs\n",
    "outputs = net(images)"
   ]
  },
  {
   "cell_type": "markdown",
   "id": "63f13d50",
   "metadata": {},
   "source": [
    "The outputs are energies for the 10 classes. The higher the energy for a class, the more the network thinks that the image is of the particular class.\n",
    "So, let's get the index of the highest energy"
   ]
  },
  {
   "cell_type": "code",
   "execution_count": 22,
   "id": "622e0f1c",
   "metadata": {},
   "outputs": [
    {
     "name": "stdout",
     "output_type": "stream",
     "text": [
      "Predicted:  cat   ship  ship  ship \n"
     ]
    }
   ],
   "source": [
    "_, predicted = torch.max(outputs, 1)\n",
    "print('Predicted: ', ' '.join(f'{classes[predicted[j]]:5s}' for j in range(4)))"
   ]
  },
  {
   "cell_type": "markdown",
   "id": "af705bcf",
   "metadata": {},
   "source": [
    "The results are pretty good, just the last one is not correct. So, now, let's watch the results for teh entire test set."
   ]
  },
  {
   "cell_type": "code",
   "execution_count": 23,
   "id": "ecb366ec",
   "metadata": {},
   "outputs": [
    {
     "name": "stdout",
     "output_type": "stream",
     "text": [
      "Accuracy of the network on the 10000 test images: 55 %\n"
     ]
    }
   ],
   "source": [
    "correct = 0\n",
    "total = 0\n",
    "#since we are not training, we don't need to calculate the gradients for the outputs\n",
    "with torch.no_grad():\n",
    "    for data in testloader:\n",
    "        images, labels = data\n",
    "        outputs = net(images)\n",
    "        _, predicted = torch.max(outputs, 1)\n",
    "        total += labels.size(0)\n",
    "        correct += (predicted == labels).sum().item()\n",
    "\n",
    "\n",
    "print(f'Accuracy of the network on the 10000 test images: {100 * correct // total} %')"
   ]
  },
  {
   "cell_type": "markdown",
   "id": "be34521d",
   "metadata": {},
   "source": [
    "Now, let's identify the classes taht performed well and the ones that didn't."
   ]
  },
  {
   "cell_type": "code",
   "execution_count": 24,
   "id": "6f56ea9e",
   "metadata": {},
   "outputs": [
    {
     "name": "stdout",
     "output_type": "stream",
     "text": [
      "Accuracy for class: plane is 64.2 %\n",
      "Accuracy for class: car   is 48.9 %\n",
      "Accuracy for class: bird  is 38.7 %\n",
      "Accuracy for class: cat   is 20.4 %\n",
      "Accuracy for class: deer  is 54.7 %\n",
      "Accuracy for class: dog   is 47.8 %\n",
      "Accuracy for class: frog  is 64.5 %\n",
      "Accuracy for class: horse is 71.9 %\n",
      "Accuracy for class: ship  is 69.9 %\n",
      "Accuracy for class: truck is 72.5 %\n"
     ]
    }
   ],
   "source": [
    "# prepare to count predictions for each class\n",
    "correct_pred = {classname: 0 for classname in classes}\n",
    "total_pred = {classname: 0 for classname in classes}\n",
    "\n",
    "# again no gradients needed\n",
    "with torch.no_grad():\n",
    "    for data in testloader:\n",
    "        images, labels = data\n",
    "        outputs = net(images)\n",
    "        _, predictions = torch.max(outputs, 1)\n",
    "        # collect the correct predictions for each class\n",
    "        for label, prediction in zip(labels, predictions):\n",
    "            if label == prediction:\n",
    "                correct_pred[classes[label]] += 1\n",
    "            total_pred[classes[label]] += 1\n",
    "\n",
    "\n",
    "# print accuracy for each class\n",
    "for classname, correct_count in correct_pred.items():\n",
    "    accuracy = 100 * float(correct_count) / total_pred[classname]\n",
    "    print(f'Accuracy for class: {classname:5s} is {accuracy:.1f} %')"
   ]
  }
 ],
 "metadata": {
  "kernelspec": {
   "display_name": "Python 3",
   "language": "python",
   "name": "python3"
  },
  "language_info": {
   "codemirror_mode": {
    "name": "ipython",
    "version": 3
   },
   "file_extension": ".py",
   "mimetype": "text/x-python",
   "name": "python",
   "nbconvert_exporter": "python",
   "pygments_lexer": "ipython3",
   "version": "3.10.11"
  }
 },
 "nbformat": 4,
 "nbformat_minor": 5
}
